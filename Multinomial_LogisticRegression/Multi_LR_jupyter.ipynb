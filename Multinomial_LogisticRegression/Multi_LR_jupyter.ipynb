{
 "cells": [
  {
   "cell_type": "code",
   "execution_count": 11,
   "id": "679dba5c",
   "metadata": {},
   "outputs": [],
   "source": [
    "import scipy.io\n",
    "import os\n",
    "import numpy as np\n",
    "import builtins as bins\n",
    "import cv2"
   ]
  },
  {
   "cell_type": "code",
   "execution_count": 14,
   "id": "55681c9f",
   "metadata": {},
   "outputs": [
    {
     "name": "stdout",
     "output_type": "stream",
     "text": [
      "(9537, 7500)\n",
      "(3783, 7500)\n"
     ]
    }
   ],
   "source": [
    "def ResizeImage(imgPath):\n",
    "    img = cv2.imread(imgPath)\n",
    "    img = cv2.resize(img, dsize=(50, 50), interpolation=cv2.INTER_CUBIC)\n",
    "    imgVec = img.reshape(1, 7500)\n",
    "    return imgVec\n",
    "\n",
    "mat = scipy.io.loadmat('subset.mat')\n",
    "trainTest = mat['subset']\n",
    "\n",
    "path_to_dataset = 'tiny-UCF101'\n",
    "categories = sorted(os.listdir(path_to_dataset))\n",
    "l = list(range(0, 102))\n",
    "labelDict = dict(bins.zip(categories, l))\n",
    "\n",
    "imgPaths = []\n",
    "labels = []\n",
    "directory1 = 'tiny-UCF101'\n",
    "\n",
    "for directory2 in sorted(os.listdir(directory1)):\n",
    "    # print(directory2)\n",
    "    for fileName in sorted(os.listdir(os.path.join(directory1, directory2))):\n",
    "        f = os.path.join(directory1, directory2, fileName)\n",
    "        imgPaths.append(f)\n",
    "        labels.append(labelDict[directory2])\n",
    "\n",
    "trainX = np.zeros((1,7500))\n",
    "testX = np.zeros((1,7500))\n",
    "trainY = []\n",
    "testY = []\n",
    "for i in range(0, 13320):\n",
    "    imgVec = ResizeImage(imgPaths[i])\n",
    "    label = labels[i]\n",
    "    if(trainTest[i] == 'training'):\n",
    "        trainX = np.vstack([trainX, imgVec])\n",
    "        trainY.append(label)\n",
    "    else:\n",
    "        testX = np.vstack([testX, imgVec])\n",
    "        testY.append(label)\n",
    "\n",
    "trainX = np.delete(trainX, 0, 0)\n",
    "testX = np.delete(testX, 0, 0)\n",
    "print(trainX.shape)\n",
    "print(testX.shape)"
   ]
  },
  {
   "cell_type": "markdown",
   "id": "a8fc6e01",
   "metadata": {},
   "source": [
    "###### Multinomial Logistic Regression"
   ]
  },
  {
   "cell_type": "code",
   "execution_count": 15,
   "id": "a50b525e",
   "metadata": {},
   "outputs": [],
   "source": [
    "from scipy.special import softmax\n",
    "from sklearn.preprocessing import OneHotEncoder\n",
    "onehot_encoder = OneHotEncoder(sparse=False)\n",
    "import pandas as pd\n",
    "from sklearn.preprocessing import StandardScaler"
   ]
  },
  {
   "cell_type": "code",
   "execution_count": 16,
   "id": "0cb0364b",
   "metadata": {},
   "outputs": [],
   "source": [
    "def ComputeLoss(X, Y, W):\n",
    "    Z = - X @ W\n",
    "    N = X.shape[0]\n",
    "    term = np.sum(np.log(np.sum(np.exp(Z), axis=1)))\n",
    "    loss = 1/N * (np.trace(X @ W @ Y.T) + term)\n",
    "    return loss"
   ]
  },
  {
   "cell_type": "code",
   "execution_count": 25,
   "id": "d8c32ece",
   "metadata": {},
   "outputs": [],
   "source": [
    "def FindGradient(X, Y, W):\n",
    "    Z = - X @ W\n",
    "    P = softmax(Z, axis=1)\n",
    "    N = X.shape[0]\n",
    "    gd = 1/N * np.matmul(X.T,(Y - P))\n",
    "    return gd"
   ]
  },
  {
   "cell_type": "code",
   "execution_count": 26,
   "id": "2366d4dc",
   "metadata": {},
   "outputs": [],
   "source": [
    "def InitializeW(W):\n",
    "    r = W.shape[0]\n",
    "    c = W.shape[1]\n",
    "    val = 0.1\n",
    "    for i in range(0,r):\n",
    "        W[i, :] = val\n",
    "        if (val == 0.9):\n",
    "            val = 0.1\n",
    "        else:\n",
    "            val += 0.1\n",
    "    return W"
   ]
  },
  {
   "cell_type": "code",
   "execution_count": 27,
   "id": "e922bdf0",
   "metadata": {},
   "outputs": [],
   "source": [
    "def GD(X, Y, max_iter=1200, lr=0.05):\n",
    "    Y_onehot = onehot_encoder.fit_transform(Y.reshape(-1, 1))\n",
    "    W = np.zeros((X.shape[1], Y_onehot.shape[1]))\n",
    "    # W = InitializeW(W)\n",
    "    step = 0\n",
    "    step1 = []\n",
    "    loss = []\n",
    "    Ws = []\n",
    "\n",
    "    while step < max_iter:\n",
    "        step += 1\n",
    "        W = W - (lr * FindGradient(X, Y_onehot, W))\n",
    "        step1.append(step)\n",
    "        Ws.append(W)\n",
    "        loss.append(ComputeLoss(X, Y_onehot, W))\n",
    "\n",
    "    df = pd.DataFrame({\n",
    "        'step': step1,\n",
    "        'loss': loss\n",
    "    })\n",
    "    return df, W"
   ]
  },
  {
   "cell_type": "code",
   "execution_count": 28,
   "id": "973b0923",
   "metadata": {},
   "outputs": [],
   "source": [
    "class MultinomialLogisticRegression:\n",
    "    def fit(self, X, Y):\n",
    "        self.loss, self.W = GD(X, Y)\n",
    "\n",
    "    def plotLoss(self):\n",
    "        return self.loss.plot(\n",
    "            x='step',\n",
    "            y='loss',\n",
    "            xlabel='step',\n",
    "            ylabel='loss'\n",
    "        )\n",
    "\n",
    "    def predict(self, X):\n",
    "        F = - X @ self.W\n",
    "        P = softmax(F, axis=1)\n",
    "        return np.argmax(P, axis=1)"
   ]
  },
  {
   "cell_type": "code",
   "execution_count": 29,
   "id": "13006b52",
   "metadata": {},
   "outputs": [
    {
     "name": "stdout",
     "output_type": "stream",
     "text": [
      "(9537, 7500)\n"
     ]
    },
    {
     "data": {
      "text/plain": [
       "<AxesSubplot:xlabel='step', ylabel='loss'>"
      ]
     },
     "execution_count": 29,
     "metadata": {},
     "output_type": "execute_result"
    },
    {
     "data": {
      "image/png": "[encoded data removed]",
      "text/plain": [
       "<Figure size 432x288 with 1 Axes>"
      ]
     },
     "metadata": {
      "needs_background": "light"
     },
     "output_type": "display_data"
    }
   ],
   "source": [
    "from sklearn.preprocessing import StandardScaler\n",
    "# trainX = trainX[0:4000, :]\n",
    "# trainY = np.array(trainY)\n",
    "# trainY = trainY[0:4000,]\n",
    "\n",
    "scaler = StandardScaler()\n",
    "trainX = scaler.fit_transform(trainX)\n",
    "# trainY = trainY.reshape(-1, 1)\n",
    "# print(trainY.shape)\n",
    "# trainY = scaler.transform(trainY)\n",
    "\n",
    "print (trainX.shape)\n",
    "trainY = np.array(trainY)\n",
    "\n",
    "model = MultinomialLogisticRegression()\n",
    "model.fit(trainX, trainY)\n",
    "model.plotLoss()"
   ]
  },
  {
   "cell_type": "code",
   "execution_count": 30,
   "id": "8bc41227",
   "metadata": {},
   "outputs": [
    {
     "data": {
      "text/plain": [
       "array([[ 0.00252376,  0.00221801, -0.0059998 , ..., -0.00396324,\n",
       "        -0.01072371, -0.00371828],\n",
       "       [ 0.00448264,  0.00766536, -0.01316407, ...,  0.00189192,\n",
       "        -0.01254926, -0.00365146],\n",
       "       [ 0.00664977,  0.01480756, -0.00688157, ...,  0.00175147,\n",
       "        -0.01344219, -0.0023824 ],\n",
       "       ...,\n",
       "       [-0.00535756,  0.00355609,  0.01106629, ...,  0.00137662,\n",
       "         0.02703831,  0.01407238],\n",
       "       [-0.0038961 ,  0.00463498, -0.00290561, ...,  0.00337726,\n",
       "         0.02158637,  0.01193875],\n",
       "       [ 0.00655198,  0.01033942,  0.00182482, ..., -0.00226183,\n",
       "         0.00547268, -0.01036387]])"
      ]
     },
     "execution_count": 30,
     "metadata": {},
     "output_type": "execute_result"
    }
   ],
   "source": [
    "model.W"
   ]
  },
  {
   "cell_type": "code",
   "execution_count": 31,
   "id": "37d8c7c8",
   "metadata": {},
   "outputs": [],
   "source": [
    "testX = scaler.fit_transform(testX)\n"
   ]
  },
  {
   "cell_type": "code",
   "execution_count": 33,
   "id": "c0afe411",
   "metadata": {},
   "outputs": [
    {
     "name": "stdout",
     "output_type": "stream",
     "text": [
      "603\n"
     ]
    }
   ],
   "source": [
    "# predResults = model.predict(testX)\n",
    "count = 0\n",
    "Z = - testX @ model.W\n",
    "P = softmax(Z, axis=1)\n",
    "ans = np.argmax(P, axis=1)\n",
    "\n",
    "for i in range(0, 3783):\n",
    "    if (ans[i] == testY[i]):\n",
    "        count += 1\n",
    "print(count)\n"
   ]
  },
  {
   "cell_type": "code",
   "execution_count": 100,
   "id": "150f4bcd",
   "metadata": {},
   "outputs": [
    {
     "name": "stdout",
     "output_type": "stream",
     "text": [
      "640\n"
     ]
    }
   ],
   "source": [
    "count = 0\n",
    "for i in range(0, 3783):\n",
    "    if (predResults[i] == testY[i]):\n",
    "        count += 1\n",
    "print(count)"
   ]
  },
  {
   "cell_type": "code",
   "execution_count": 108,
   "id": "bfc39250",
   "metadata": {},
   "outputs": [
    {
     "data": {
      "text/plain": [
       "0.33835580227332807"
      ]
     },
     "execution_count": 108,
     "metadata": {},
     "output_type": "execute_result"
    }
   ],
   "source": [
    "1280/3783"
   ]
  },
  {
   "cell_type": "markdown",
   "id": "0f395c44",
   "metadata": {},
   "source": [
    "### ROC Curve 50th Class"
   ]
  },
  {
   "cell_type": "code",
   "execution_count": 138,
   "id": "56efdaf9",
   "metadata": {},
   "outputs": [
    {
     "name": "stdout",
     "output_type": "stream",
     "text": [
      "39\n"
     ]
    }
   ],
   "source": [
    "count =  (testY == 50).sum()\n",
    "print(count)"
   ]
  },
  {
   "cell_type": "code",
   "execution_count": 139,
   "id": "b4648171",
   "metadata": {},
   "outputs": [
    {
     "name": "stdout",
     "output_type": "stream",
     "text": [
      "4.0\n"
     ]
    }
   ],
   "source": [
    "test50Y = np.zeros((3783,))\n",
    "preds50Y = np.zeros((3783,))\n",
    "for i in range ( 0 , 3783):\n",
    "    if(testY[i] == 50):\n",
    "        test50Y[i] = 1\n",
    "        if(ans[i] == 50):\n",
    "            preds50Y[i] = 1\n",
    "\n",
    "print(np.sum(preds50Y))\n",
    "\n"
   ]
  },
  {
   "cell_type": "code",
   "execution_count": 140,
   "id": "964ccf76",
   "metadata": {},
   "outputs": [
    {
     "name": "stdout",
     "output_type": "stream",
     "text": [
      "[0. 0. 0. ... 0. 0. 0.]\n",
      "[0. 0. 0. ... 0. 0. 0.]\n",
      "0.5512820512820513\n"
     ]
    },
    {
     "data": {
      "image/png": "[encoded data removed]",
      "text/plain": [
       "<Figure size 432x288 with 1 Axes>"
      ]
     },
     "metadata": {
      "needs_background": "light"
     },
     "output_type": "display_data"
    }
   ],
   "source": [
    "import matplotlib.pyplot as plt\n",
    "from sklearn.metrics import roc_curve, roc_auc_score\n",
    "\n",
    "fpr, tpr, t = roc_curve(test50Y, preds50Y)\n",
    "\n",
    "print(test50Y)\n",
    "print(preds50Y)\n",
    "\n",
    "auc = roc_auc_score(test50Y, preds50Y)\n",
    "print(auc)\n",
    "\n",
    "plt.plot(fpr, tpr, marker='.', label='Logistic')\n",
    "plt.show()\n"
   ]
  },
  {
   "cell_type": "code",
   "execution_count": null,
   "id": "eda305d3",
   "metadata": {},
   "outputs": [],
   "source": []
  }
 ],
 "metadata": {
  "kernelspec": {
   "display_name": "Python 3 (ipykernel)",
   "language": "python",
   "name": "python3"
  },
  "language_info": {
   "codemirror_mode": {
    "name": "ipython",
    "version": 3
   },
   "file_extension": ".py",
   "mimetype": "text/x-python",
   "name": "python",
   "nbconvert_exporter": "python",
   "pygments_lexer": "ipython3",
   "version": "3.10.0"
  }
 },
 "nbformat": 4,
 "nbformat_minor": 5
}
